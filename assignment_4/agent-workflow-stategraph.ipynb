{
 "cells": [
  {
   "cell_type": "code",
   "execution_count": 32,
   "id": "0e3c4743",
   "metadata": {},
   "outputs": [],
   "source": [
    "import os\n",
    "from langchain_huggingface import HuggingFaceEmbeddings\n",
    "from langchain_google_genai import GoogleGenerativeAI\n",
    "from langchain_community.document_loaders import TextLoader,DirectoryLoader\n",
    "from langchain_community.vectorstores import FAISS\n",
    "import faiss\n",
    "from langchain_community.docstore import InMemoryDocstore\n",
    "from langchain_core.runnables import RunnablePassthrough\n",
    "from langchain.prompts import PromptTemplate\n",
    "from pydantic import Field\n",
    "from typing import TypedDict\n",
    "from langchain.text_splitter import RecursiveCharacterTextSplitter\n",
    "from pydantic import BaseModel,Field\n",
    "from langchain.output_parsers import PydanticOutputParser\n",
    "import operator\n",
    "from typing import Annotated,Sequence,Optional,Literal\n",
    "from langchain_core.messages import BaseMessage\n",
    "from langchain_core.output_parsers import StrOutputParser\n",
    "from langgraph.graph import StateGraph,END\n",
    "import random\n",
    "from langchain_community.retrievers import TavilySearchAPIRetriever\n",
    "from dotenv import load_dotenv\n",
    "load_dotenv()\n",
    "os.environ['HF_TOKEN']=os.getenv('HF_TOKEN')\n",
    "os.environ['GOOGLE_API_KEY']=os.getenv('GOOGLE_API_KEY')\n",
    "os.environ['TAVILY_API_KEY']=os.getenv('TAVILY_API_KEY')\n"
   ]
  },
  {
   "cell_type": "code",
   "execution_count": 33,
   "id": "d1cd7d3d",
   "metadata": {},
   "outputs": [],
   "source": [
    "def configure_llm_model():\n",
    "    model = GoogleGenerativeAI(model='gemini-1.5-flash')\n",
    "    output = model.invoke(\"Hello\")\n",
    "    print(output)\n",
    "    return model\n",
    "def configure_embedding_model():\n",
    "    embeddings = HuggingFaceEmbeddings(model=\"BAAI/bge-small-en\")\n",
    "    return embeddings\n",
    "def load_text_document():\n",
    "    loader = DirectoryLoader(path=\"../data\",glob=['*.txt'],loader_cls=TextLoader)\n",
    "    docs = loader.load()\n",
    "    return docs\n",
    "def split_docs(docs):\n",
    "    text_splitter = RecursiveCharacterTextSplitter(chunk_size=500,chunk_overlap=50)\n",
    "    doc_chunks = text_splitter.split_documents(docs)\n",
    "    return doc_chunks\n",
    "def create_db():\n",
    "    embeddings = configure_embedding_model()\n",
    "    index = faiss.IndexFlatIP(len(embeddings.embed_query('hello')))\n",
    "    db = FAISS(embedding_function=embeddings,\n",
    "               index=index,\n",
    "               docstore=InMemoryDocstore(),\n",
    "               index_to_docstore_id={})\n",
    "    return db"
   ]
  },
  {
   "cell_type": "code",
   "execution_count": 34,
   "id": "d487b479",
   "metadata": {},
   "outputs": [
    {
     "data": {
      "text/plain": [
       "['b3dd38b3-eb34-41c5-b974-5dc075df5388', '40e551c1-f264-4bd3-bce2-ef3e857c8c3f', 'd2ed7757-7985-41b5-9246-d8c488fc1f5f']"
      ]
     },
     "execution_count": 34,
     "metadata": {},
     "output_type": "execute_result"
    }
   ],
   "source": [
    "docs = load_text_document()\n",
    "doc_chunks = split_docs(docs)\n",
    "embeddings = configure_embedding_model()\n",
    "db = create_db()\n",
    "db.from_documents(documents=doc_chunks, embedding=embeddings)\n",
    "db.add_documents(doc_chunks)"
   ]
  },
  {
   "cell_type": "code",
   "execution_count": 35,
   "id": "73856674",
   "metadata": {},
   "outputs": [
    {
     "data": {
      "text/plain": [
       "[Document(id='b3dd38b3-eb34-41c5-b974-5dc075df5388', metadata={'source': '..\\\\data\\\\usa.txt'}, page_content=\"Title: United States Gross Domestic Product (GDP) Overview\\n\\nThe Gross Domestic Product (GDP) of the United States is a key indicator of the country's economic performance. As of 2023, the nominal GDP of the U.S. was approximately $26.95 trillion, making it the largest economy in the world.\\n\\nGDP represents the total market value of all final goods and services produced in a country during a specific period. It is often measured quarterly and annually by the Bureau of Economic Analysis (BEA).\"), Document(id='40e551c1-f264-4bd3-bce2-ef3e857c8c3f', metadata={'source': '..\\\\data\\\\usa.txt'}, page_content='Key Highlights:\\n\\n1947 GDP: $243.1 billion\\n\\n1980 GDP: $2.86 trillion\\n\\n2000 GDP: $10.25 trillion\\n\\n2010 GDP: $14.96 trillion\\n\\n2020 GDP (pandemic impact): $20.93 trillion\\n\\n2023 GDP: $26.95 trillion\\n\\nReal vs. Nominal GDP:\\n\\nNominal GDP is not adjusted for inflation and reflects current market prices.\\n\\nReal GDP is adjusted for inflation and reflects the actual volume of production.\\n\\nGDP Components:\\n\\nConsumer Spending (C): The largest component, including goods and services.')]"
      ]
     },
     "execution_count": 35,
     "metadata": {},
     "output_type": "execute_result"
    }
   ],
   "source": [
    "retriver = db.as_retriever(search_kwargs={'k':2})\n",
    "retriver.invoke(\"Tell me about USA GDP?\")"
   ]
  },
  {
   "cell_type": "code",
   "execution_count": 36,
   "id": "e3f7b9ca",
   "metadata": {},
   "outputs": [
    {
     "name": "stdout",
     "output_type": "stream",
     "text": [
      "Hello there! How can I help you today?\n"
     ]
    }
   ],
   "source": [
    "model = configure_llm_model()"
   ]
  },
  {
   "cell_type": "code",
   "execution_count": 37,
   "id": "39382c52",
   "metadata": {},
   "outputs": [
    {
     "name": "stdout",
     "output_type": "stream",
     "text": [
      "The output should be formatted as a JSON instance that conforms to the JSON schema below.\n",
      "\n",
      "As an example, for the schema {\"properties\": {\"foo\": {\"title\": \"Foo\", \"description\": \"a list of strings\", \"type\": \"array\", \"items\": {\"type\": \"string\"}}}, \"required\": [\"foo\"]}\n",
      "the object {\"foo\": [\"bar\", \"baz\"]} is a well-formatted instance of the schema. The object {\"properties\": {\"foo\": [\"bar\", \"baz\"]}} is not well-formatted.\n",
      "\n",
      "Here is the output schema:\n",
      "```\n",
      "{\"properties\": {\"Topic\": {\"description\": \"Topic selected\", \"title\": \"Topic\", \"type\": \"string\"}, \"Reason\": {\"description\": \"Reason for selecting the Topic\", \"title\": \"Reason\", \"type\": \"string\"}}, \"required\": [\"Topic\", \"Reason\"]}\n",
      "```\n"
     ]
    }
   ],
   "source": [
    "class TopicClassifierModel(BaseModel):\n",
    "    Topic:str=Field(description=\"Topic selected\")\n",
    "    Reason:str=Field(description=\"Reason for selecting the Topic\")\n",
    "    \n",
    "parser = PydanticOutputParser(pydantic_object=TopicClassifierModel)\n",
    "print(parser.get_format_instructions())"
   ]
  },
  {
   "cell_type": "code",
   "execution_count": 38,
   "id": "872a81ce",
   "metadata": {},
   "outputs": [],
   "source": [
    "class AgentState(TypedDict):\n",
    "    messages:Annotated[Sequence[BaseMessage],operator.add]\n",
    "    selected_node: Optional[str]\n",
    "    validation_passed:Optional[bool]"
   ]
  },
  {
   "cell_type": "code",
   "execution_count": 39,
   "id": "55e8c36e",
   "metadata": {},
   "outputs": [],
   "source": [
    "def format_docs(docs):\n",
    "    return '\\n\\n'.join([doc.page_content for doc in docs])\n",
    "\n",
    "def SUPERVISOR(state:AgentState):\n",
    "    print(\"<<--SUPERVISOR-->>\")\n",
    "    print(\"Supervisor function triggered\")\n",
    "    template = \"\"\" You are a helpful supervisor oversees the given user question : {question} and classfies it into one of the below categories.\" \\\n",
    "    \"['usa','not related','real time']\" \\\n",
    "    \"That is you check the given question/query and determine if the given question is related to GDP of USA or not related or something that requires real time web search inorder to answer\"\n",
    "    {format_instructions}\"\"\"\n",
    "    prompt = PromptTemplate(template=template,\n",
    "                            input_variables=['question'],\n",
    "                            partial_variables={'format_instructions':parser.get_format_instructions}\n",
    "\n",
    "    )\n",
    "    chain = prompt | model | parser\n",
    "    question = state['messages'][-1]\n",
    "    \n",
    "    response = chain.invoke(question)\n",
    "    selected_topic = response.Topic\n",
    "    node_map = {'usa':'rag','not related':'llm','real time':'web'}\n",
    "    selected_node = node_map[selected_topic]\n",
    "\n",
    "    print(response)\n",
    "    print(selected_node)\n",
    "    return {'messages':[response.Topic],\n",
    "            'selected_node':selected_node,\n",
    "            'validation_passed':None}\n",
    "\n",
    "def LLM(state:AgentState):\n",
    "    print(\"<<--LLM->>\")\n",
    "    question = state['messages'][0]\n",
    "    template = \"\"\"\n",
    "                You are a helpful assistant in answering the user question in an accurate and precise manner. You answers will be factually correct.\n",
    "                Usewr question : {question}                \n",
    "            \"\"\"\n",
    "    prompt = PromptTemplate(template=template,\n",
    "                            input_variables=['question'])\n",
    "    chain = prompt | model | StrOutputParser()\n",
    "    response = chain.invoke(question)\n",
    "    print(response)\n",
    "    return {'messages':[response]}\n",
    "\n",
    "def RAG(state:AgentState):\n",
    "    print(\"<<--RAG->>\")\n",
    "    question = state['messages'][0]\n",
    "    template = \"\"\"\n",
    "                You are a helpful assistant in answering the user question in an accurate and precise manner based on the given context.\n",
    "                context = {context}\n",
    "                user question = {question}             \n",
    "            \"\"\"\n",
    "    prompt = PromptTemplate(template=template,\n",
    "                            input_variables=['question','context'])\n",
    "    rag_chain = ({'context': retriver | format_docs, 'question':RunnablePassthrough()}\n",
    "                 | prompt\n",
    "                 | model\n",
    "                 | StrOutputParser()\n",
    "                 )\n",
    "    response = rag_chain.invoke(question)\n",
    "    print(response)\n",
    "    return {'messages':[response]}\n",
    "\n",
    "def WEB(state:AgentState):\n",
    "    print(\"<<--WEB->>\")\n",
    "    print(\"WEB function triggered\")\n",
    "    question = state['messages'][0]\n",
    "    from langchain_community.retrievers import TavilySearchAPIRetriever\n",
    "    tavily_retriever = TavilySearchAPIRetriever(k=3)\n",
    "\n",
    "    template = \"\"\"Answer the question based only on the context provided.\n",
    "        Context: {context}\n",
    "\n",
    "        Question: {question}\"\"\"\n",
    "    prompt = PromptTemplate(template=template,\n",
    "                            input_variables=['question','context'])\n",
    "    chain = (\n",
    "            {\"context\": tavily_retriever | format_docs, \"question\": RunnablePassthrough()}\n",
    "            | prompt\n",
    "            | model\n",
    "            | StrOutputParser()\n",
    "            )\n",
    "\n",
    "    response = chain.invoke(question)\n",
    "    print(\"Tavily Search and LLM Reponse Generated\")\n",
    "    return {'messages':[response]}\n",
    "\n",
    "def VALIDATOR(state: AgentState):\n",
    "    print(\"<<--VALIDATOR-->>\")\n",
    "    question = state['messages'][0]\n",
    "    answer = state['messages'][-1]\n",
    "\n",
    "    # Ask the model to validate its own answer\n",
    "    validation_prompt = PromptTemplate(\n",
    "        template=\"\"\"\n",
    "        Given a user question and an answer, determine whether the answer is factually correct, relevant, and sufficient.\n",
    "\n",
    "        Question: {question}\n",
    "        Answer: {answer}\n",
    "\n",
    "        Respond only with 'pass' or 'fail'.\n",
    "        \"\"\",\n",
    "        input_variables=['question', 'answer']\n",
    "    )\n",
    "    validation_chain = validation_prompt | model | StrOutputParser()\n",
    "    result = validation_chain.invoke({\"question\": question, \"answer\": answer}).strip().lower()\n",
    "\n",
    "    if result == \"pass\":\n",
    "        print(\"Validation Passed by LLM.\")\n",
    "        return {'validation_passed': 'pass'}\n",
    "    else:\n",
    "        print(\"Validation Failed by LLM.\")\n",
    "        return {'validation_passed': 'fail'}\n",
    "\n",
    "def route_with_selection(state:AgentState):\n",
    "    return state['selected_node']\n",
    "def route_with_validation(state:AgentState):\n",
    "    return state['validation_passed']"
   ]
  },
  {
   "cell_type": "code",
   "execution_count": 40,
   "id": "14f4bad9",
   "metadata": {},
   "outputs": [
    {
     "data": {
      "text/plain": [
       "<langgraph.graph.state.StateGraph object at 0x0000018C2719E000>"
      ]
     },
     "execution_count": 40,
     "metadata": {},
     "output_type": "execute_result"
    }
   ],
   "source": [
    "workflow = StateGraph(AgentState)\n",
    "workflow.add_node('supervisor',SUPERVISOR)\n",
    "workflow.add_node('llm',LLM)\n",
    "workflow.add_node('rag',RAG)\n",
    "workflow.add_node('web',WEB)\n",
    "workflow.add_node('validator',VALIDATOR)\n",
    "workflow.set_entry_point('supervisor')\n",
    "\n",
    "workflow.add_edge('llm','validator')\n",
    "workflow.add_edge('rag','validator')\n",
    "workflow.add_edge('web','validator')\n",
    "\n",
    "workflow.add_conditional_edges('supervisor',\n",
    "                               route_with_selection,\n",
    "                               {\n",
    "                                  'llm':'llm',\n",
    "                                  'rag':'rag',\n",
    "                                  'web':'web' \n",
    "                               })\n",
    "\n",
    "workflow.add_conditional_edges('validator',\n",
    "                               route_with_validation,\n",
    "                               {\n",
    "                                  'pass':END,\n",
    "                                  'fail':'supervisor',\n",
    "                               })"
   ]
  },
  {
   "cell_type": "code",
   "execution_count": 41,
   "id": "b4a235d1",
   "metadata": {},
   "outputs": [
    {
     "data": {
      "image/png": "[encoded data removed]",
      "text/plain": [
       "<langgraph.graph.state.CompiledStateGraph object at 0x0000018C2719D100>"
      ]
     },
     "execution_count": 41,
     "metadata": {},
     "output_type": "execute_result"
    }
   ],
   "source": [
    "app = workflow.compile()\n",
    "app"
   ]
  },
  {
   "cell_type": "code",
   "execution_count": 42,
   "id": "addb285a",
   "metadata": {},
   "outputs": [
    {
     "name": "stdout",
     "output_type": "stream",
     "text": [
      "<<--SUPERVISOR-->>\n",
      "Supervisor function triggered\n",
      "Topic='usa' Reason=\"The question explicitly asks about the USA's GDP.\"\n",
      "rag\n",
      "<<--RAG->>\n",
      "The U.S. has the world's largest economy, with a nominal GDP of approximately $26.95 trillion in 2023.  This figure represents the total market value of all final goods and services produced within the U.S. in that year.  The GDP is tracked and reported by the Bureau of Economic Analysis (BEA), both quarterly and annually.  It's important to distinguish between nominal GDP (unadjusted for inflation) and real GDP (adjusted for inflation).  The GDP has grown significantly since 1947, when it was $243.1 billion.\n",
      "<<--VALIDATOR-->>\n",
      "Validation Passed by LLM.\n"
     ]
    }
   ],
   "source": [
    "state_var = {'messages':[\"Tell me something about USA GDP?\"]}\n",
    "\n",
    "response = app.invoke(state_var)"
   ]
  },
  {
   "cell_type": "code",
   "execution_count": 43,
   "id": "562974c5",
   "metadata": {},
   "outputs": [
    {
     "name": "stdout",
     "output_type": "stream",
     "text": [
      "(\"The U.S. has the world's largest economy, with a nominal GDP of \"\n",
      " 'approximately $26.95 trillion in 2023.  This figure represents the total '\n",
      " 'market value of all final goods and services produced within the U.S. in '\n",
      " 'that year.  The GDP is tracked and reported by the Bureau of Economic '\n",
      " \"Analysis (BEA), both quarterly and annually.  It's important to distinguish \"\n",
      " 'between nominal GDP (unadjusted for inflation) and real GDP (adjusted for '\n",
      " 'inflation).  The GDP has grown significantly since 1947, when it was $243.1 '\n",
      " 'billion.')\n"
     ]
    }
   ],
   "source": [
    "import pprint\n",
    "pprint.pprint(response['messages'][-1])"
   ]
  },
  {
   "cell_type": "code",
   "execution_count": 44,
   "id": "c47ad0d0",
   "metadata": {},
   "outputs": [
    {
     "name": "stdout",
     "output_type": "stream",
     "text": [
      "<<--SUPERVISOR-->>\n",
      "Supervisor function triggered\n",
      "Topic='real time' Reason='The question asks for the latest news, which requires a real-time web search to provide a current and accurate answer.'\n",
      "web\n",
      "<<--WEB->>\n",
      "WEB function triggered\n",
      "Tavily Search and LLM Reponse Generated\n",
      "<<--VALIDATOR-->>\n",
      "Validation Failed by LLM.\n",
      "<<--SUPERVISOR-->>\n",
      "Supervisor function triggered\n",
      "Topic='not related' Reason='The query describes a military conflict between Israel and Iran, which is not directly related to the GDP of the USA.'\n",
      "llm\n",
      "<<--LLM->>\n",
      "Recent news is highly dynamic, so providing the *absolute* latest requires a real-time news feed.  However, I can give you a summary of some significant ongoing news themes as of October 26, 2023:\n",
      "\n",
      "* **Global Politics:**  International relations remain tense in various regions.  Specific conflicts and diplomatic efforts are constantly evolving and require consulting current news sources for up-to-the-minute details.  Major themes often include geopolitical tensions, international trade negotiations, and responses to global crises.\n",
      "\n",
      "* **Economy:**  Global economic conditions are a major focus, with ongoing discussions surrounding inflation, interest rates, recessionary risks, and energy prices.  Specific countries' economic performances and policy decisions are frequently reported.\n",
      "\n",
      "* **Technology:**  Advancements in artificial intelligence, space exploration, and other technological fields continue to generate headlines.  Developments in these areas, along with their societal impacts, are significant news items.\n",
      "\n",
      "* **Climate Change:**  The impacts of climate change, including extreme weather events and environmental policy debates, remain prominent news topics.\n",
      "\n",
      "To get the very latest news, I recommend checking reputable news sources such as the Associated Press (AP), Reuters, BBC News, and other established news organizations in your region.  These sources provide continuous updates and detailed coverage of current events.\n",
      "<<--VALIDATOR-->>\n",
      "Validation Failed by LLM.\n",
      "<<--SUPERVISOR-->>\n",
      "Supervisor function triggered\n",
      "Topic='not related' Reason=\"The question asks for a summary of current news themes, not specifically about the GDP of the USA.  While economic news is mentioned, it's presented as a broad overview, not focused on a particular country's GDP.\"\n",
      "llm\n",
      "<<--LLM->>\n",
      "Recent news is constantly evolving, so I cannot provide the very latest headlines in real-time.  To get the most up-to-date information, I recommend checking reputable news sources such as the Associated Press (AP), Reuters, BBC News, or your preferred national or international news outlet.  These sources will provide current events coverage across a range of topics, including politics, business, technology, and world affairs.\n",
      "<<--VALIDATOR-->>\n",
      "Validation Passed by LLM.\n",
      "('Recent news is constantly evolving, so I cannot provide the very latest '\n",
      " 'headlines in real-time.  To get the most up-to-date information, I recommend '\n",
      " 'checking reputable news sources such as the Associated Press (AP), Reuters, '\n",
      " 'BBC News, or your preferred national or international news outlet.  These '\n",
      " 'sources will provide current events coverage across a range of topics, '\n",
      " 'including politics, business, technology, and world affairs.')\n"
     ]
    }
   ],
   "source": [
    "state_var = {'messages':[\"Tell me something about latest news?\"]}\n",
    "\n",
    "response = app.invoke(state_var)\n",
    "\n",
    "pprint.pprint(response['messages'][-1])"
   ]
  },
  {
   "cell_type": "code",
   "execution_count": 45,
   "id": "87bcace7",
   "metadata": {},
   "outputs": [
    {
     "name": "stdout",
     "output_type": "stream",
     "text": [
      "<<--SUPERVISOR-->>\n",
      "Supervisor function triggered\n",
      "Topic='not related' Reason='The question \"Tell me how are you feeling today?\" is a personal inquiry about the speaker\\'s emotional state.  It has no connection to the GDP of the USA or any other economic data.'\n",
      "llm\n",
      "<<--LLM->>\n",
      "As a large language model, I don't experience emotions or feelings in the same way humans do.  I don't have a body or personal experiences that would generate feelings.  Therefore, I cannot tell you how I am feeling today.\n",
      "<<--VALIDATOR-->>\n",
      "Validation Passed by LLM.\n",
      "(\"As a large language model, I don't experience emotions or feelings in the \"\n",
      " \"same way humans do.  I don't have a body or personal experiences that would \"\n",
      " 'generate feelings.  Therefore, I cannot tell you how I am feeling today.')\n"
     ]
    }
   ],
   "source": [
    "state_var = {'messages':[\"Tell me how are you feeling today?\"]}\n",
    "\n",
    "response = app.invoke(state_var)\n",
    "\n",
    "pprint.pprint(response['messages'][-1])"
   ]
  }
 ],
 "metadata": {
  "kernelspec": {
   "display_name": ".venv",
   "language": "python",
   "name": "python3"
  },
  "language_info": {
   "codemirror_mode": {
    "name": "ipython",
    "version": 3
   },
   "file_extension": ".py",
   "mimetype": "text/x-python",
   "name": "python",
   "nbconvert_exporter": "python",
   "pygments_lexer": "ipython3",
   "version": "3.12.7"
  }
 },
 "nbformat": 4,
 "nbformat_minor": 5
}

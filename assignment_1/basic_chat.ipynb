{
 "cells": [
  {
   "cell_type": "code",
   "execution_count": 1,
   "id": "71fc4148",
   "metadata": {},
   "outputs": [
    {
     "data": {
      "text/plain": [
       "{'ProductName': 'Sony Bravia XR A95K OLED 4K HDR TV',\n",
       " 'ProductDetails': 'A 4K OLED TV with HDR, smart TV features, 120Hz refresh rate, and advanced sound system.',\n",
       " 'TentativePrice': 2499}"
      ]
     },
     "execution_count": 1,
     "metadata": {},
     "output_type": "execute_result"
    }
   ],
   "source": [
    "import os\n",
    "from dotenv import load_dotenv\n",
    "load_dotenv()\n",
    "from pydantic import BaseModel, Field\n",
    "from typing import Optional\n",
    "os.environ['OPENAI_API_KEY'] = os.getenv('OPENAI_API_KEY')\n",
    "os.environ['GROQ_API_KEY'] = os.getenv('GROQ_API_KEY')\n",
    "#LANGCHAIN TRACKING AND TRACING\n",
    "os.environ['LANGCHAIN_API_KEY'] = os.getenv('LANGCHAIN_API_KEY')\n",
    "os.environ['LANGCHAIN_PROJECT'] = \"AgenticAILearningAssignment1\"\n",
    "os.environ['LANGCHAIN_TRACING_v2'] = \"true\"\n",
    "\n",
    "from langchain_groq import ChatGroq\n",
    "from langchain_core.prompts import ChatPromptTemplate\n",
    "from langchain_openai import ChatOpenAI\n",
    "llm = ChatGroq(model='deepseek-r1-distill-llama-70b',temperature=0.5)\n",
    "#llm = ChatOpenAI(model=\"gpt-4o\")\n",
    "\n",
    "class Product(BaseModel):\n",
    "    ProductName : str\n",
    "    ProductDetails : str\n",
    "    TentativePrice : int =Field(description=\"The price must be provided in USD\")\n",
    "\n",
    "from langchain_core.output_parsers import JsonOutputParser\n",
    "\n",
    "parser = JsonOutputParser(pydantic_object=Product)\n",
    "parser\n",
    "\n",
    "prompt = ChatPromptTemplate.from_template(\"Tell me about the Product {query}\\n{format_instructions}\").partial(format_instructions=parser.get_format_instructions())\n",
    "prompt\n",
    "\n",
    "chain = prompt | llm | parser\n",
    "\n",
    "chain.invoke({\"query\":\"Sony TV\"})\n"
   ]
  },
  {
   "cell_type": "code",
   "execution_count": null,
   "id": "edfa49ea",
   "metadata": {},
   "outputs": [],
   "source": []
  }
 ],
 "metadata": {
  "kernelspec": {
   "display_name": ".venv",
   "language": "python",
   "name": "python3"
  },
  "language_info": {
   "codemirror_mode": {
    "name": "ipython",
    "version": 3
   },
   "file_extension": ".py",
   "mimetype": "text/x-python",
   "name": "python",
   "nbconvert_exporter": "python",
   "pygments_lexer": "ipython3",
   "version": "3.12.7"
  }
 },
 "nbformat": 4,
 "nbformat_minor": 5
}
